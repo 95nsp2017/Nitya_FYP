{
  "nbformat": 4,
  "nbformat_minor": 0,
  "metadata": {
    "colab": {
      "provenance": []
    },
    "kernelspec": {
      "name": "python3",
      "display_name": "Python 3"
    },
    "language_info": {
      "name": "python"
    }
  },
  "cells": [
    {
      "cell_type": "code",
      "execution_count": null,
      "metadata": {
        "id": "2ygPCjFIEizE"
      },
      "outputs": [],
      "source": [
        "#Description : Create a program to see how similar is a resume to a job description"
      ]
    },
    {
      "cell_type": "code",
      "source": [
        "#installing important packages:\n",
        "%pip install docx2txt"
      ],
      "metadata": {
        "colab": {
          "base_uri": "https://localhost:8080/"
        },
        "id": "KDNgXK66Fwh1",
        "outputId": "8759a22b-6b47-411a-b41f-1a3a82d3f87a"
      },
      "execution_count": null,
      "outputs": [
        {
          "output_type": "stream",
          "name": "stdout",
          "text": [
            "Looking in indexes: https://pypi.org/simple, https://us-python.pkg.dev/colab-wheels/public/simple/\n",
            "Collecting docx2txt\n",
            "  Downloading docx2txt-0.8.tar.gz (2.8 kB)\n",
            "  Preparing metadata (setup.py) ... \u001b[?25l\u001b[?25hdone\n",
            "Building wheels for collected packages: docx2txt\n",
            "  Building wheel for docx2txt (setup.py) ... \u001b[?25l\u001b[?25hdone\n",
            "  Created wheel for docx2txt: filename=docx2txt-0.8-py3-none-any.whl size=3977 sha256=4ffeb993ff39c24e606eca7ae4b288d663c16e059998edf45aac6b5b74388538\n",
            "  Stored in directory: /root/.cache/pip/wheels/40/75/01/e6c444034338bde9c7947d3467807f889123465c2371e77418\n",
            "Successfully built docx2txt\n",
            "Installing collected packages: docx2txt\n",
            "Successfully installed docx2txt-0.8\n"
          ]
        }
      ]
    },
    {
      "cell_type": "code",
      "source": [
        "import docx2txt"
      ],
      "metadata": {
        "id": "dCs9rFWZF-Xx"
      },
      "execution_count": null,
      "outputs": []
    },
    {
      "cell_type": "code",
      "source": [
        "from google.colab import files\n",
        "uploaded = files.upload()"
      ],
      "metadata": {
        "colab": {
          "base_uri": "https://localhost:8080/",
          "height": 107
        },
        "id": "fgQCskU8GDqC",
        "outputId": "0cddb14c-d791-446d-ba34-90483747f8fb"
      },
      "execution_count": null,
      "outputs": [
        {
          "output_type": "display_data",
          "data": {
            "text/plain": [
              "<IPython.core.display.HTML object>"
            ],
            "text/html": [
              "\n",
              "     <input type=\"file\" id=\"files-f5a4ce57-25c9-4646-b31a-6b337ba024c3\" name=\"files[]\" multiple disabled\n",
              "        style=\"border:none\" />\n",
              "     <output id=\"result-f5a4ce57-25c9-4646-b31a-6b337ba024c3\">\n",
              "      Upload widget is only available when the cell has been executed in the\n",
              "      current browser session. Please rerun this cell to enable.\n",
              "      </output>\n",
              "      <script>// Copyright 2017 Google LLC\n",
              "//\n",
              "// Licensed under the Apache License, Version 2.0 (the \"License\");\n",
              "// you may not use this file except in compliance with the License.\n",
              "// You may obtain a copy of the License at\n",
              "//\n",
              "//      http://www.apache.org/licenses/LICENSE-2.0\n",
              "//\n",
              "// Unless required by applicable law or agreed to in writing, software\n",
              "// distributed under the License is distributed on an \"AS IS\" BASIS,\n",
              "// WITHOUT WARRANTIES OR CONDITIONS OF ANY KIND, either express or implied.\n",
              "// See the License for the specific language governing permissions and\n",
              "// limitations under the License.\n",
              "\n",
              "/**\n",
              " * @fileoverview Helpers for google.colab Python module.\n",
              " */\n",
              "(function(scope) {\n",
              "function span(text, styleAttributes = {}) {\n",
              "  const element = document.createElement('span');\n",
              "  element.textContent = text;\n",
              "  for (const key of Object.keys(styleAttributes)) {\n",
              "    element.style[key] = styleAttributes[key];\n",
              "  }\n",
              "  return element;\n",
              "}\n",
              "\n",
              "// Max number of bytes which will be uploaded at a time.\n",
              "const MAX_PAYLOAD_SIZE = 100 * 1024;\n",
              "\n",
              "function _uploadFiles(inputId, outputId) {\n",
              "  const steps = uploadFilesStep(inputId, outputId);\n",
              "  const outputElement = document.getElementById(outputId);\n",
              "  // Cache steps on the outputElement to make it available for the next call\n",
              "  // to uploadFilesContinue from Python.\n",
              "  outputElement.steps = steps;\n",
              "\n",
              "  return _uploadFilesContinue(outputId);\n",
              "}\n",
              "\n",
              "// This is roughly an async generator (not supported in the browser yet),\n",
              "// where there are multiple asynchronous steps and the Python side is going\n",
              "// to poll for completion of each step.\n",
              "// This uses a Promise to block the python side on completion of each step,\n",
              "// then passes the result of the previous step as the input to the next step.\n",
              "function _uploadFilesContinue(outputId) {\n",
              "  const outputElement = document.getElementById(outputId);\n",
              "  const steps = outputElement.steps;\n",
              "\n",
              "  const next = steps.next(outputElement.lastPromiseValue);\n",
              "  return Promise.resolve(next.value.promise).then((value) => {\n",
              "    // Cache the last promise value to make it available to the next\n",
              "    // step of the generator.\n",
              "    outputElement.lastPromiseValue = value;\n",
              "    return next.value.response;\n",
              "  });\n",
              "}\n",
              "\n",
              "/**\n",
              " * Generator function which is called between each async step of the upload\n",
              " * process.\n",
              " * @param {string} inputId Element ID of the input file picker element.\n",
              " * @param {string} outputId Element ID of the output display.\n",
              " * @return {!Iterable<!Object>} Iterable of next steps.\n",
              " */\n",
              "function* uploadFilesStep(inputId, outputId) {\n",
              "  const inputElement = document.getElementById(inputId);\n",
              "  inputElement.disabled = false;\n",
              "\n",
              "  const outputElement = document.getElementById(outputId);\n",
              "  outputElement.innerHTML = '';\n",
              "\n",
              "  const pickedPromise = new Promise((resolve) => {\n",
              "    inputElement.addEventListener('change', (e) => {\n",
              "      resolve(e.target.files);\n",
              "    });\n",
              "  });\n",
              "\n",
              "  const cancel = document.createElement('button');\n",
              "  inputElement.parentElement.appendChild(cancel);\n",
              "  cancel.textContent = 'Cancel upload';\n",
              "  const cancelPromise = new Promise((resolve) => {\n",
              "    cancel.onclick = () => {\n",
              "      resolve(null);\n",
              "    };\n",
              "  });\n",
              "\n",
              "  // Wait for the user to pick the files.\n",
              "  const files = yield {\n",
              "    promise: Promise.race([pickedPromise, cancelPromise]),\n",
              "    response: {\n",
              "      action: 'starting',\n",
              "    }\n",
              "  };\n",
              "\n",
              "  cancel.remove();\n",
              "\n",
              "  // Disable the input element since further picks are not allowed.\n",
              "  inputElement.disabled = true;\n",
              "\n",
              "  if (!files) {\n",
              "    return {\n",
              "      response: {\n",
              "        action: 'complete',\n",
              "      }\n",
              "    };\n",
              "  }\n",
              "\n",
              "  for (const file of files) {\n",
              "    const li = document.createElement('li');\n",
              "    li.append(span(file.name, {fontWeight: 'bold'}));\n",
              "    li.append(span(\n",
              "        `(${file.type || 'n/a'}) - ${file.size} bytes, ` +\n",
              "        `last modified: ${\n",
              "            file.lastModifiedDate ? file.lastModifiedDate.toLocaleDateString() :\n",
              "                                    'n/a'} - `));\n",
              "    const percent = span('0% done');\n",
              "    li.appendChild(percent);\n",
              "\n",
              "    outputElement.appendChild(li);\n",
              "\n",
              "    const fileDataPromise = new Promise((resolve) => {\n",
              "      const reader = new FileReader();\n",
              "      reader.onload = (e) => {\n",
              "        resolve(e.target.result);\n",
              "      };\n",
              "      reader.readAsArrayBuffer(file);\n",
              "    });\n",
              "    // Wait for the data to be ready.\n",
              "    let fileData = yield {\n",
              "      promise: fileDataPromise,\n",
              "      response: {\n",
              "        action: 'continue',\n",
              "      }\n",
              "    };\n",
              "\n",
              "    // Use a chunked sending to avoid message size limits. See b/62115660.\n",
              "    let position = 0;\n",
              "    do {\n",
              "      const length = Math.min(fileData.byteLength - position, MAX_PAYLOAD_SIZE);\n",
              "      const chunk = new Uint8Array(fileData, position, length);\n",
              "      position += length;\n",
              "\n",
              "      const base64 = btoa(String.fromCharCode.apply(null, chunk));\n",
              "      yield {\n",
              "        response: {\n",
              "          action: 'append',\n",
              "          file: file.name,\n",
              "          data: base64,\n",
              "        },\n",
              "      };\n",
              "\n",
              "      let percentDone = fileData.byteLength === 0 ?\n",
              "          100 :\n",
              "          Math.round((position / fileData.byteLength) * 100);\n",
              "      percent.textContent = `${percentDone}% done`;\n",
              "\n",
              "    } while (position < fileData.byteLength);\n",
              "  }\n",
              "\n",
              "  // All done.\n",
              "  yield {\n",
              "    response: {\n",
              "      action: 'complete',\n",
              "    }\n",
              "  };\n",
              "}\n",
              "\n",
              "scope.google = scope.google || {};\n",
              "scope.google.colab = scope.google.colab || {};\n",
              "scope.google.colab._files = {\n",
              "  _uploadFiles,\n",
              "  _uploadFilesContinue,\n",
              "};\n",
              "})(self);\n",
              "</script> "
            ]
          },
          "metadata": {}
        },
        {
          "output_type": "stream",
          "name": "stdout",
          "text": [
            "Saving job description.docx to job description.docx\n",
            "Saving resume_001.docx to resume_001 (2).docx\n"
          ]
        }
      ]
    },
    {
      "cell_type": "code",
      "source": [
        "#Store the resume in a variable\n",
        "resume = docx2txt.process(\"resume_001.docx\")\n",
        "\n",
        "print(resume)"
      ],
      "metadata": {
        "colab": {
          "base_uri": "https://localhost:8080/"
        },
        "id": "96-je-B7GT49",
        "outputId": "a0aeca77-6aef-4bb4-8279-680a25feed5f"
      },
      "execution_count": null,
      "outputs": [
        {
          "output_type": "stream",
          "name": "stdout",
          "text": [
            "Summary\n",
            "\n",
            "Senior Web Developer specializing in front end development. Experienced with all stages of the development cycle for dynamic web projects. Well-versed in numerous programming languages including HTML5, PHP OOP, JavaScript, CSS, MySQL. Strong background in project management and customer relations.\n",
            "\n",
            "Skill Highlights\n",
            "\n",
            "Project management\n",
            "\n",
            "Strong decision maker\n",
            "\n",
            "Complex problem solver\n",
            "\n",
            "Creative design\n",
            "\n",
            "Innovative\n",
            "\n",
            "Service-focused\n",
            "\n",
            "Experience\n",
            "\n",
            "Web Developer - 09/2015 to 05/2019\n",
            "\n",
            "Luna Web Design, New York\n",
            "\n",
            "Cooperate with designers to create clean interfaces and simple, intuitive interactions and experiences.\n",
            "\n",
            "Develop project concepts and maintain optimal workflow.\n",
            "\n",
            "Work with senior developer to manage large, complex design projects for corporate clients.\n",
            "\n",
            "Complete detailed programming and development tasks for front end public and internal websites as well as challenging back-end server code.\n",
            "\n",
            "Carry out quality assurance tests to discover errors and optimize usability.\n",
            "\n",
            "Education\n",
            "\n",
            "Bachelor of Science: Computer Information Systems - 2014\n",
            "\n",
            "Columbia University, NY\n",
            "\n",
            "Certifications\n",
            "\n",
            "PHP Framework (certificate): Zend, Codeigniter, Symfony.\n",
            "\n",
            "Programming Languages: JavaScript, HTML5, PHP OOP, CSS, SQL, MySQL.\n",
            "\n",
            "\n",
            "\n",
            "Summary\n",
            "\n",
            "Senior Web Developer specializing in front end development. Experienced with all stages of the development cycle for dynamic web projects. Well-versed in numerous programming languages including HTML5, PHP OOP, JavaScript, CSS, MySQL. Strong background in project management and customer relations.\n",
            "\n",
            "Skill Highlights\n",
            "\n",
            "Project management\n",
            "\n",
            "Strong decision maker\n",
            "\n",
            "Complex problem solver\n",
            "\n",
            "Creative design\n",
            "\n",
            "Innovative\n",
            "\n",
            "Service-focused\n",
            "\n",
            "Experience\n",
            "\n",
            "Web Developer - 09/2015 to 05/2019\n",
            "\n",
            "Luna Web Design, New York\n",
            "\n",
            "Cooperate with designers to create clean interfaces and simple, intuitive interactions and experiences.\n",
            "\n",
            "Develop project concepts and maintain optimal workflow.\n",
            "\n",
            "Work with senior developer to manage large, complex design projects for corporate clients.\n",
            "\n",
            "Complete detailed programming and development tasks for front end public and internal websites as well as challenging back-end server code.\n",
            "\n",
            "Carry out quality assurance tests to discover errors and optimize usability.\n",
            "\n",
            "Education\n",
            "\n",
            "Bachelor of Science: Computer Information Systems - 2014\n",
            "\n",
            "Columbia University, NY\n",
            "\n",
            "Certifications\n",
            "\n",
            "PHP Framework (certificate): Zend, Codeigniter, Symfony.\n",
            "\n",
            "Programming Languages: JavaScript, HTML5, PHP OOP, CSS, SQL, MySQL.\n",
            "\n",
            "\n",
            "\n",
            "MATTHEW ELIOT\n",
            "\n",
            "MATTHEW ELIOT\n",
            "\n",
            "+1 (970) 333-3833  \n",
            "\n",
            "matthew.eliot@mail.com \n",
            "\n",
            "https://linkedin.com/mattheweliot\n",
            "\n",
            "+1 (970) 333-3833  \n",
            "\n",
            "matthew.eliot@mail.com \n",
            "\n",
            "https://linkedin.com/mattheweliot\n"
          ]
        }
      ]
    },
    {
      "cell_type": "code",
      "source": [
        "#Store the job description into a variable\n",
        "job_description = docx2txt.process(\"job description.docx\")\n",
        "\n",
        "print(job_description)"
      ],
      "metadata": {
        "colab": {
          "base_uri": "https://localhost:8080/"
        },
        "id": "9BOSkLNZGyIv",
        "outputId": "9287518b-14ad-4674-bbec-25093509d1cb"
      },
      "execution_count": null,
      "outputs": [
        {
          "output_type": "stream",
          "name": "stdout",
          "text": [
            "|| Website Designer ||\n",
            "\n",
            "\n",
            "\n",
            "We are looking for a creative Web Designer to join the design team of our organization. You will be required to produce website ideas and concepts and help create them with our content writers and engineers. Your work should be original and creative with user-friendly notions in mind to help make the site comprehensible and attractive at the same time.\n",
            "\n",
            "\n",
            "\n",
            "\n",
            "\n",
            "|| Responsibilities ||\n",
            "\n",
            "\n",
            "\n",
            "- Design and develop websites as envisioned and directed from scratch. \n",
            "\n",
            "- Collaborating with the engineering and content team to create the website. \n",
            "\n",
            "- Create new and unique website concepts to execute. \n",
            "\n",
            "- Ensure all websites are created with a user-friendly interface idea in mind. \n",
            "\n",
            "- Create storyboards, sitemaps, and process flow charts to explain design ideas. \n",
            "\n",
            "- Identify and notify colleagues and superiors of the key deliverables of every project. \n",
            "\n",
            "- Present the design ideas and concepts to colleagues, clients, and executives. \n",
            "\n",
            "- Keep in touch with the best practices and continuously educate oneself on the subject. \n",
            "\n",
            "- Establish a set of design guidelines to follow. \n",
            "\n",
            "\n",
            "\n",
            "\n",
            "\n",
            "|| Requirements ||\n",
            "\n",
            "\n",
            "\n",
            "- Bachelors or Masters degree in Visual Communication, Electronic Media, Computer Interaction or other subjects related to the field. \n",
            "\n",
            "- Prior experience as a web designer with a strong portfolio. \n",
            "\n",
            "- Excellent at using Adobe tools like Photoshop, Illustrator or other visual design and wireframing tools. \n",
            "\n",
            "- Prior experience in creating storyboards, sitemaps, process flows and wireframing. \n",
            "\n",
            "- Proficient in HTML, CSS, Java scripts. \n",
            "\n",
            "- Creative thinker not afraid to explore and innovate. \n",
            "\n",
            "- Good problem solving, multitasking and time management skills \n",
            "\n",
            "- Well read with the best practices and keeps up with the trends.\n"
          ]
        }
      ]
    },
    {
      "cell_type": "code",
      "source": [
        "#A list of text\n",
        "text = [resume, job_description]"
      ],
      "metadata": {
        "id": "p79Wf_d_NFrP"
      },
      "execution_count": null,
      "outputs": []
    },
    {
      "cell_type": "code",
      "source": [
        "from sklearn.feature_extraction.text import CountVectorizer"
      ],
      "metadata": {
        "id": "AwcJhD81Qcft"
      },
      "execution_count": null,
      "outputs": []
    },
    {
      "cell_type": "code",
      "source": [
        "cv = CountVectorizer()\n",
        "count_matrix = cv.fit_transform(text)"
      ],
      "metadata": {
        "id": "LvBmGqgGQoW7"
      },
      "execution_count": null,
      "outputs": []
    },
    {
      "cell_type": "code",
      "source": [
        "from sklearn.metrics.pairwise import cosine_similarity\n",
        "\n",
        "#Print the similarity scores\n",
        "print(\"\\nSimilarity Score: \")\n",
        "print(cosine_similarity(count_matrix))"
      ],
      "metadata": {
        "colab": {
          "base_uri": "https://localhost:8080/"
        },
        "id": "kdvDh8H1Q3N5",
        "outputId": "19eae57b-5c12-45ec-b64b-c99a555d62ad"
      },
      "execution_count": null,
      "outputs": [
        {
          "output_type": "stream",
          "name": "stdout",
          "text": [
            "\n",
            "Similarity Score: \n",
            "[[1.         0.50840498]\n",
            " [0.50840498 1.        ]]\n"
          ]
        }
      ]
    },
    {
      "cell_type": "code",
      "source": [
        "#Get the match percentage:\n",
        "match_percentage = cosine_similarity(count_matrix)[0][1] * 100\n",
        "round_match_precentage = round(match_percentage, 2)  #round to two decimal places\n",
        "print(\"Your resume matches around \" + str(round_match_precentage) + \"% of the job description.\")"
      ],
      "metadata": {
        "colab": {
          "base_uri": "https://localhost:8080/"
        },
        "id": "8N2BC-GERYdG",
        "outputId": "93c1ab39-4544-482f-8223-88e751d02323"
      },
      "execution_count": null,
      "outputs": [
        {
          "output_type": "stream",
          "name": "stdout",
          "text": [
            "Your resume matches around 50.84% of the job description.\n"
          ]
        }
      ]
    },
    {
      "cell_type": "code",
      "source": [],
      "metadata": {
        "id": "QZ3XXcyUgTYW"
      },
      "execution_count": null,
      "outputs": []
    }
  ]
}